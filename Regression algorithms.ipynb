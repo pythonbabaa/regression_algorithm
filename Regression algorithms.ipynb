{
 "cells": [
  {
   "cell_type": "code",
   "execution_count": 1,
   "id": "9938edfc",
   "metadata": {},
   "outputs": [],
   "source": [
    "# setup\n",
    "#from mlwpy import *\n",
    "\n",
    "import numpy as np\n",
    "import pandas as pd\n",
    "import seaborn as sns\n",
    "import statsmodels.api as sm\n",
    "import matplotlib.pyplot as plt\n",
    "%matplotlib inline\n",
    "\n",
    "import sklearn.metrics as metrics\n",
    "from sklearn.model_selection import train_test_split\n",
    "from sklearn import metrics\n",
    "from sklearn import neighbors\n",
    "from sklearn.naive_bayes import GaussianNB\n",
    "from sklearn.linear_model import LinearRegression\n",
    "from sklearn.linear_model import Ridge\n",
    "from sklearn.linear_model import Lasso\n",
    "from sklearn.preprocessing import PolynomialFeatures\n",
    "from sklearn import datasets\n",
    "from sklearn.preprocessing import StandardScaler\n",
    "\n",
    "#%reload_ext memory_profiler"
   ]
  },
  {
   "cell_type": "code",
   "execution_count": 2,
   "id": "b001f383",
   "metadata": {},
   "outputs": [
    {
     "data": {
      "text/html": [
       "<div>\n",
       "<style scoped>\n",
       "    .dataframe tbody tr th:only-of-type {\n",
       "        vertical-align: middle;\n",
       "    }\n",
       "\n",
       "    .dataframe tbody tr th {\n",
       "        vertical-align: top;\n",
       "    }\n",
       "\n",
       "    .dataframe thead th {\n",
       "        text-align: right;\n",
       "    }\n",
       "</style>\n",
       "<table border=\"1\" class=\"dataframe\">\n",
       "  <thead>\n",
       "    <tr style=\"text-align: right;\">\n",
       "      <th></th>\n",
       "      <th>Unnamed: 0</th>\n",
       "      <th>ID</th>\n",
       "      <th>make</th>\n",
       "      <th>model</th>\n",
       "      <th>months_old</th>\n",
       "      <th>power</th>\n",
       "      <th>gear</th>\n",
       "      <th>fuel_type</th>\n",
       "      <th>kms</th>\n",
       "      <th>price</th>\n",
       "      <th>age</th>\n",
       "    </tr>\n",
       "  </thead>\n",
       "  <tbody>\n",
       "    <tr>\n",
       "      <th>0</th>\n",
       "      <td>0</td>\n",
       "      <td>97860</td>\n",
       "      <td>Porsche</td>\n",
       "      <td>911</td>\n",
       "      <td>240</td>\n",
       "      <td>210</td>\n",
       "      <td>manual</td>\n",
       "      <td>gasoline</td>\n",
       "      <td>202000</td>\n",
       "      <td>999999</td>\n",
       "      <td>1998</td>\n",
       "    </tr>\n",
       "    <tr>\n",
       "      <th>1</th>\n",
       "      <td>1</td>\n",
       "      <td>27821</td>\n",
       "      <td>Ford</td>\n",
       "      <td>Mustang</td>\n",
       "      <td>54</td>\n",
       "      <td>487</td>\n",
       "      <td>manual</td>\n",
       "      <td>gasoline</td>\n",
       "      <td>30000</td>\n",
       "      <td>685000</td>\n",
       "      <td>2013</td>\n",
       "    </tr>\n",
       "    <tr>\n",
       "      <th>2</th>\n",
       "      <td>2</td>\n",
       "      <td>97801</td>\n",
       "      <td>Porsche</td>\n",
       "      <td>911</td>\n",
       "      <td>358</td>\n",
       "      <td>220</td>\n",
       "      <td>manual</td>\n",
       "      <td>gasoline</td>\n",
       "      <td>56300</td>\n",
       "      <td>555555</td>\n",
       "      <td>1988</td>\n",
       "    </tr>\n",
       "    <tr>\n",
       "      <th>3</th>\n",
       "      <td>3</td>\n",
       "      <td>98251</td>\n",
       "      <td>Porsche</td>\n",
       "      <td>911</td>\n",
       "      <td>14</td>\n",
       "      <td>368</td>\n",
       "      <td>manual</td>\n",
       "      <td>gasoline</td>\n",
       "      <td>2800</td>\n",
       "      <td>470000</td>\n",
       "      <td>2016</td>\n",
       "    </tr>\n",
       "    <tr>\n",
       "      <th>4</th>\n",
       "      <td>4</td>\n",
       "      <td>98250</td>\n",
       "      <td>Porsche</td>\n",
       "      <td>911</td>\n",
       "      <td>3</td>\n",
       "      <td>515</td>\n",
       "      <td>unknown</td>\n",
       "      <td>gasoline</td>\n",
       "      <td>10</td>\n",
       "      <td>450000</td>\n",
       "      <td>2017</td>\n",
       "    </tr>\n",
       "  </tbody>\n",
       "</table>\n",
       "</div>"
      ],
      "text/plain": [
       "   Unnamed: 0     ID     make    model  months_old  power     gear fuel_type  \\\n",
       "0           0  97860  Porsche      911         240    210   manual  gasoline   \n",
       "1           1  27821     Ford  Mustang          54    487   manual  gasoline   \n",
       "2           2  97801  Porsche      911         358    220   manual  gasoline   \n",
       "3           3  98251  Porsche      911          14    368   manual  gasoline   \n",
       "4           4  98250  Porsche      911           3    515  unknown  gasoline   \n",
       "\n",
       "      kms   price   age  \n",
       "0  202000  999999  1998  \n",
       "1   30000  685000  2013  \n",
       "2   56300  555555  1988  \n",
       "3    2800  470000  2016  \n",
       "4      10  450000  2017  "
      ]
     },
     "execution_count": 2,
     "metadata": {},
     "output_type": "execute_result"
    }
   ],
   "source": [
    "cars_data =  pd.read_csv('Span_new.csv')\n",
    "cars_data.head()"
   ]
  },
  {
   "cell_type": "code",
   "execution_count": 3,
   "id": "42965f89",
   "metadata": {},
   "outputs": [
    {
     "data": {
      "text/plain": [
       "(92385, 9)"
      ]
     },
     "execution_count": 3,
     "metadata": {},
     "output_type": "execute_result"
    }
   ],
   "source": [
    "cars_data = cars_data.drop_duplicates()\n",
    "cars_data = cars_data.dropna()\n",
    "cars_data = cars_data.drop(['Unnamed: 0', 'ID'], axis = 1)\n",
    "cars_data = cars_data.rename({'age' : 'model_year'}, axis = 1)\n",
    "cars_data.shape"
   ]
  },
  {
   "cell_type": "markdown",
   "id": "29c2314d",
   "metadata": {},
   "source": [
    "### Standardizing IVs and DV"
   ]
  },
  {
   "cell_type": "code",
   "execution_count": 4,
   "id": "9eba866b",
   "metadata": {},
   "outputs": [],
   "source": [
    "variables_in_study = cars_data[['months_old', 'power','kms','price']]\n",
    "\n",
    "scaler = StandardScaler()\n",
    "scaler.fit(variables_in_study)\n",
    "variables_in_study = scaler.transform(variables_in_study)\n",
    "\n",
    "variables_in_study = pd.DataFrame(variables_in_study, columns = ['months_old', 'power','kms','price'])\n",
    "independent_variables = variables_in_study[['months_old', 'power','kms']]\n",
    "dependent_variable = variables_in_study['price']"
   ]
  },
  {
   "cell_type": "code",
   "execution_count": 5,
   "id": "f0fa490e",
   "metadata": {},
   "outputs": [
    {
     "data": {
      "text/html": [
       "<div>\n",
       "<style scoped>\n",
       "    .dataframe tbody tr th:only-of-type {\n",
       "        vertical-align: middle;\n",
       "    }\n",
       "\n",
       "    .dataframe tbody tr th {\n",
       "        vertical-align: top;\n",
       "    }\n",
       "\n",
       "    .dataframe thead th {\n",
       "        text-align: right;\n",
       "    }\n",
       "</style>\n",
       "<table border=\"1\" class=\"dataframe\">\n",
       "  <thead>\n",
       "    <tr style=\"text-align: right;\">\n",
       "      <th></th>\n",
       "      <th>months_old</th>\n",
       "      <th>power</th>\n",
       "      <th>kms</th>\n",
       "      <th>price</th>\n",
       "    </tr>\n",
       "  </thead>\n",
       "  <tbody>\n",
       "    <tr>\n",
       "      <th>0</th>\n",
       "      <td>3.098538</td>\n",
       "      <td>2.577409</td>\n",
       "      <td>1.579643</td>\n",
       "      <td>63.172076</td>\n",
       "    </tr>\n",
       "    <tr>\n",
       "      <th>1</th>\n",
       "      <td>-0.171992</td>\n",
       "      <td>9.057070</td>\n",
       "      <td>-0.706650</td>\n",
       "      <td>42.938830</td>\n",
       "    </tr>\n",
       "    <tr>\n",
       "      <th>2</th>\n",
       "      <td>5.173390</td>\n",
       "      <td>2.811332</td>\n",
       "      <td>-0.357060</td>\n",
       "      <td>34.624224</td>\n",
       "    </tr>\n",
       "    <tr>\n",
       "      <th>3</th>\n",
       "      <td>-0.875332</td>\n",
       "      <td>6.273389</td>\n",
       "      <td>-1.068204</td>\n",
       "      <td>29.128793</td>\n",
       "    </tr>\n",
       "    <tr>\n",
       "      <th>4</th>\n",
       "      <td>-1.068750</td>\n",
       "      <td>9.712054</td>\n",
       "      <td>-1.105290</td>\n",
       "      <td>27.844138</td>\n",
       "    </tr>\n",
       "  </tbody>\n",
       "</table>\n",
       "</div>"
      ],
      "text/plain": [
       "   months_old     power       kms      price\n",
       "0    3.098538  2.577409  1.579643  63.172076\n",
       "1   -0.171992  9.057070 -0.706650  42.938830\n",
       "2    5.173390  2.811332 -0.357060  34.624224\n",
       "3   -0.875332  6.273389 -1.068204  29.128793\n",
       "4   -1.068750  9.712054 -1.105290  27.844138"
      ]
     },
     "execution_count": 5,
     "metadata": {},
     "output_type": "execute_result"
    }
   ],
   "source": [
    "variables_in_study.head()"
   ]
  },
  {
   "cell_type": "code",
   "execution_count": 6,
   "id": "a73b4402",
   "metadata": {},
   "outputs": [
    {
     "data": {
      "text/html": [
       "<div>\n",
       "<style scoped>\n",
       "    .dataframe tbody tr th:only-of-type {\n",
       "        vertical-align: middle;\n",
       "    }\n",
       "\n",
       "    .dataframe tbody tr th {\n",
       "        vertical-align: top;\n",
       "    }\n",
       "\n",
       "    .dataframe thead th {\n",
       "        text-align: right;\n",
       "    }\n",
       "</style>\n",
       "<table border=\"1\" class=\"dataframe\">\n",
       "  <thead>\n",
       "    <tr style=\"text-align: right;\">\n",
       "      <th></th>\n",
       "      <th>months_old</th>\n",
       "      <th>power</th>\n",
       "      <th>kms</th>\n",
       "    </tr>\n",
       "  </thead>\n",
       "  <tbody>\n",
       "    <tr>\n",
       "      <th>0</th>\n",
       "      <td>3.098538</td>\n",
       "      <td>2.577409</td>\n",
       "      <td>1.579643</td>\n",
       "    </tr>\n",
       "    <tr>\n",
       "      <th>1</th>\n",
       "      <td>-0.171992</td>\n",
       "      <td>9.057070</td>\n",
       "      <td>-0.706650</td>\n",
       "    </tr>\n",
       "    <tr>\n",
       "      <th>2</th>\n",
       "      <td>5.173390</td>\n",
       "      <td>2.811332</td>\n",
       "      <td>-0.357060</td>\n",
       "    </tr>\n",
       "    <tr>\n",
       "      <th>3</th>\n",
       "      <td>-0.875332</td>\n",
       "      <td>6.273389</td>\n",
       "      <td>-1.068204</td>\n",
       "    </tr>\n",
       "    <tr>\n",
       "      <th>4</th>\n",
       "      <td>-1.068750</td>\n",
       "      <td>9.712054</td>\n",
       "      <td>-1.105290</td>\n",
       "    </tr>\n",
       "  </tbody>\n",
       "</table>\n",
       "</div>"
      ],
      "text/plain": [
       "   months_old     power       kms\n",
       "0    3.098538  2.577409  1.579643\n",
       "1   -0.171992  9.057070 -0.706650\n",
       "2    5.173390  2.811332 -0.357060\n",
       "3   -0.875332  6.273389 -1.068204\n",
       "4   -1.068750  9.712054 -1.105290"
      ]
     },
     "execution_count": 6,
     "metadata": {},
     "output_type": "execute_result"
    }
   ],
   "source": [
    "independent_variables.head()"
   ]
  },
  {
   "cell_type": "code",
   "execution_count": 7,
   "id": "0d60a735",
   "metadata": {},
   "outputs": [
    {
     "data": {
      "text/plain": [
       "0    63.172076\n",
       "1    42.938830\n",
       "2    34.624224\n",
       "3    29.128793\n",
       "4    27.844138\n",
       "Name: price, dtype: float64"
      ]
     },
     "execution_count": 7,
     "metadata": {},
     "output_type": "execute_result"
    }
   ],
   "source": [
    "dependent_variable.head()"
   ]
  },
  {
   "cell_type": "code",
   "execution_count": 8,
   "id": "48045d70",
   "metadata": {},
   "outputs": [],
   "source": [
    "x_train, x_test, y_train, y_test = train_test_split(independent_variables, dependent_variable, test_size=0.2)"
   ]
  },
  {
   "cell_type": "code",
   "execution_count": 9,
   "id": "0939ee46",
   "metadata": {},
   "outputs": [
    {
     "name": "stdout",
     "output_type": "stream",
     "text": [
      "cars_data shape is:  (92385, 9)\n",
      "x_train shape is:  (73908, 3)\n",
      "x_test shape is:  (18477, 3)\n",
      "y_train shape is:  (73908,)\n",
      "y_test shape is:  (18477,)\n"
     ]
    }
   ],
   "source": [
    "print('cars_data shape is: ', cars_data.shape)\n",
    "print('x_train shape is: ',x_train.shape)\n",
    "print('x_test shape is: ',x_test.shape)\n",
    "print('y_train shape is: ',y_train.shape)\n",
    "print('y_test shape is: ',y_test.shape)"
   ]
  },
  {
   "attachments": {
    "types_regression.png": {
     "image/png": "[encoded data removed]"
    }
   },
   "cell_type": "markdown",
   "id": "ec3fe68b",
   "metadata": {},
   "source": [
    "![types_regression.png](attachment:types_regression.png)"
   ]
  },
  {
   "cell_type": "markdown",
   "id": "574a3650",
   "metadata": {},
   "source": [
    "### Model Evaluation"
   ]
  },
  {
   "cell_type": "code",
   "execution_count": 10,
   "id": "ab1ee578",
   "metadata": {},
   "outputs": [],
   "source": [
    "MAE_list=[]\n",
    "MSE_list=[]\n",
    "RMSE_list=[]\n",
    "R_Squared_list=[]\n",
    "\n",
    "\n",
    "def model_evaluation(y_test, predictions):\n",
    "    mae = metrics.mean_absolute_error(y_test, predictions)\n",
    "    mse = metrics.mean_squared_error(y_test, predictions)\n",
    "    rmse = np.sqrt(mse) # or mse**(0.5)  \n",
    "    r2 = metrics.r2_score(y_test,predictions)\n",
    "    \n",
    "    MAE_list.append(mae)\n",
    "    MSE_list.append(mse)\n",
    "    RMSE_list.append(rmse)\n",
    "    R_Squared_list.append(r2)\n",
    "    \n",
    "    print(\"Results of sklearn.metrics: \\n\")\n",
    "    print(\"MAE:\",mae)\n",
    "    print(\"MSE:\", mse)\n",
    "    print(\"RMSE:\", rmse)\n",
    "    print(\"R-Squared:\", r2)"
   ]
  },
  {
   "cell_type": "markdown",
   "id": "38f6b76a",
   "metadata": {},
   "source": [
    "### Multiple Linear Regression"
   ]
  },
  {
   "cell_type": "code",
   "execution_count": 11,
   "id": "625ce85e",
   "metadata": {},
   "outputs": [
    {
     "data": {
      "text/html": [
       "<table class=\"simpletable\">\n",
       "<caption>OLS Regression Results</caption>\n",
       "<tr>\n",
       "  <th>Dep. Variable:</th>          <td>price</td>      <th>  R-squared (uncentered):</th>      <td>   0.627</td> \n",
       "</tr>\n",
       "<tr>\n",
       "  <th>Model:</th>                   <td>OLS</td>       <th>  Adj. R-squared (uncentered):</th> <td>   0.627</td> \n",
       "</tr>\n",
       "<tr>\n",
       "  <th>Method:</th>             <td>Least Squares</td>  <th>  F-statistic:       </th>          <td>4.145e+04</td>\n",
       "</tr>\n",
       "<tr>\n",
       "  <th>Date:</th>             <td>Fri, 15 Apr 2022</td> <th>  Prob (F-statistic):</th>           <td>  0.00</td>  \n",
       "</tr>\n",
       "<tr>\n",
       "  <th>Time:</th>                 <td>04:55:28</td>     <th>  Log-Likelihood:    </th>          <td> -68023.</td> \n",
       "</tr>\n",
       "<tr>\n",
       "  <th>No. Observations:</th>      <td> 73908</td>      <th>  AIC:               </th>          <td>1.361e+05</td>\n",
       "</tr>\n",
       "<tr>\n",
       "  <th>Df Residuals:</th>          <td> 73905</td>      <th>  BIC:               </th>          <td>1.361e+05</td>\n",
       "</tr>\n",
       "<tr>\n",
       "  <th>Df Model:</th>              <td>     3</td>      <th>                     </th>              <td> </td>    \n",
       "</tr>\n",
       "<tr>\n",
       "  <th>Covariance Type:</th>      <td>nonrobust</td>    <th>                     </th>              <td> </td>    \n",
       "</tr>\n",
       "</table>\n",
       "<table class=\"simpletable\">\n",
       "<tr>\n",
       "       <td></td>         <th>coef</th>     <th>std err</th>      <th>t</th>      <th>P>|t|</th>  <th>[0.025</th>    <th>0.975]</th>  \n",
       "</tr>\n",
       "<tr>\n",
       "  <th>months_old</th> <td>   -0.2106</td> <td>    0.004</td> <td>  -58.327</td> <td> 0.000</td> <td>   -0.218</td> <td>   -0.204</td>\n",
       "</tr>\n",
       "<tr>\n",
       "  <th>power</th>      <td>    0.7001</td> <td>    0.002</td> <td>  311.901</td> <td> 0.000</td> <td>    0.696</td> <td>    0.705</td>\n",
       "</tr>\n",
       "<tr>\n",
       "  <th>kms</th>        <td>   -0.2360</td> <td>    0.004</td> <td>  -65.280</td> <td> 0.000</td> <td>   -0.243</td> <td>   -0.229</td>\n",
       "</tr>\n",
       "</table>\n",
       "<table class=\"simpletable\">\n",
       "<tr>\n",
       "  <th>Omnibus:</th>       <td>167593.441</td> <th>  Durbin-Watson:     </th>    <td>   1.998</td>   \n",
       "</tr>\n",
       "<tr>\n",
       "  <th>Prob(Omnibus):</th>   <td> 0.000</td>   <th>  Jarque-Bera (JB):  </th> <td>8445245539.007</td>\n",
       "</tr>\n",
       "<tr>\n",
       "  <th>Skew:</th>            <td>20.816</td>   <th>  Prob(JB):          </th>    <td>    0.00</td>   \n",
       "</tr>\n",
       "<tr>\n",
       "  <th>Kurtosis:</th>       <td>1658.498</td>  <th>  Cond. No.          </th>    <td>    2.90</td>   \n",
       "</tr>\n",
       "</table><br/><br/>Notes:<br/>[1] R² is computed without centering (uncentered) since the model does not contain a constant.<br/>[2] Standard Errors assume that the covariance matrix of the errors is correctly specified."
      ],
      "text/plain": [
       "<class 'statsmodels.iolib.summary.Summary'>\n",
       "\"\"\"\n",
       "                                 OLS Regression Results                                \n",
       "=======================================================================================\n",
       "Dep. Variable:                  price   R-squared (uncentered):                   0.627\n",
       "Model:                            OLS   Adj. R-squared (uncentered):              0.627\n",
       "Method:                 Least Squares   F-statistic:                          4.145e+04\n",
       "Date:                Fri, 15 Apr 2022   Prob (F-statistic):                        0.00\n",
       "Time:                        04:55:28   Log-Likelihood:                         -68023.\n",
       "No. Observations:               73908   AIC:                                  1.361e+05\n",
       "Df Residuals:                   73905   BIC:                                  1.361e+05\n",
       "Df Model:                           3                                                  \n",
       "Covariance Type:            nonrobust                                                  \n",
       "==============================================================================\n",
       "                 coef    std err          t      P>|t|      [0.025      0.975]\n",
       "------------------------------------------------------------------------------\n",
       "months_old    -0.2106      0.004    -58.327      0.000      -0.218      -0.204\n",
       "power          0.7001      0.002    311.901      0.000       0.696       0.705\n",
       "kms           -0.2360      0.004    -65.280      0.000      -0.243      -0.229\n",
       "==============================================================================\n",
       "Omnibus:                   167593.441   Durbin-Watson:                   1.998\n",
       "Prob(Omnibus):                  0.000   Jarque-Bera (JB):       8445245539.007\n",
       "Skew:                          20.816   Prob(JB):                         0.00\n",
       "Kurtosis:                    1658.498   Cond. No.                         2.90\n",
       "==============================================================================\n",
       "\n",
       "Notes:\n",
       "[1] R² is computed without centering (uncentered) since the model does not contain a constant.\n",
       "[2] Standard Errors assume that the covariance matrix of the errors is correctly specified.\n",
       "\"\"\""
      ]
     },
     "execution_count": 11,
     "metadata": {},
     "output_type": "execute_result"
    }
   ],
   "source": [
    "regression_model = sm.OLS(y_train, x_train)\n",
    "results = regression_model.fit()\n",
    "results.summary()"
   ]
  },
  {
   "cell_type": "code",
   "execution_count": 12,
   "id": "8628e1d5",
   "metadata": {},
   "outputs": [
    {
     "name": "stdout",
     "output_type": "stream",
     "text": [
      "0.627196473786758\n",
      "0.627181340702682\n",
      "months_old    0.0\n",
      "power         0.0\n",
      "kms           0.0\n",
      "dtype: float64\n",
      "months_old   -0.210611\n",
      "power         0.700115\n",
      "kms          -0.236013\n",
      "dtype: float64\n"
     ]
    }
   ],
   "source": [
    "print(results.rsquared)\n",
    "print(results.rsquared_adj)\n",
    "print(results.pvalues)\n",
    "print(results.params)"
   ]
  },
  {
   "cell_type": "code",
   "execution_count": 13,
   "id": "640d48f3",
   "metadata": {},
   "outputs": [],
   "source": [
    "predictions = results.predict(x_test)"
   ]
  },
  {
   "cell_type": "code",
   "execution_count": 14,
   "id": "030215ac",
   "metadata": {},
   "outputs": [
    {
     "name": "stdout",
     "output_type": "stream",
     "text": [
      "Results of sklearn.metrics: \n",
      "\n",
      "MAE: 0.3056581889751271\n",
      "MSE: 0.4128316274119322\n",
      "RMSE: 0.6425197486551929\n",
      "R-Squared: 0.6036105814307018\n"
     ]
    }
   ],
   "source": [
    "model_evaluation(y_test, predictions)"
   ]
  },
  {
   "cell_type": "markdown",
   "id": "830721b2",
   "metadata": {},
   "source": [
    "### Polynomial Regression\n",
    "\n",
    "Also see how to visualize it"
   ]
  },
  {
   "cell_type": "code",
   "execution_count": 15,
   "id": "7e92b35d",
   "metadata": {},
   "outputs": [
    {
     "data": {
      "text/plain": [
       "LinearRegression()"
      ]
     },
     "execution_count": 15,
     "metadata": {},
     "output_type": "execute_result"
    }
   ],
   "source": [
    "poly_reg = PolynomialFeatures(degree=3)\n",
    "x_poly=poly_reg.fit_transform(x_train)\n",
    "poly_reg.fit(x_poly,y_train)\n",
    "lin_reg = LinearRegression()\n",
    "lin_reg.fit(x_poly, y_train)"
   ]
  },
  {
   "cell_type": "code",
   "execution_count": 16,
   "id": "29673a09",
   "metadata": {},
   "outputs": [],
   "source": [
    "predictions = lin_reg.predict(poly_reg.fit_transform(x_test))"
   ]
  },
  {
   "cell_type": "code",
   "execution_count": 17,
   "id": "fc363c13",
   "metadata": {},
   "outputs": [
    {
     "name": "stdout",
     "output_type": "stream",
     "text": [
      "Results of sklearn.metrics: \n",
      "\n",
      "MAE: 0.21904505440703917\n",
      "MSE: 0.27445931794855816\n",
      "RMSE: 0.5238886503337882\n",
      "R-Squared: 0.7364718150482221\n"
     ]
    }
   ],
   "source": [
    "model_evaluation(y_test, predictions)"
   ]
  },
  {
   "cell_type": "markdown",
   "id": "0fe67999",
   "metadata": {},
   "source": [
    "### Support Vector Regression"
   ]
  },
  {
   "cell_type": "code",
   "execution_count": 18,
   "id": "6df49a6e",
   "metadata": {},
   "outputs": [
    {
     "name": "stdout",
     "output_type": "stream",
     "text": [
      "2min 23s ± 0 ns per loop (mean ± std. dev. of 1 run, 1 loop each)\n"
     ]
    }
   ],
   "source": [
    "%%timeit -n1 -r1\n",
    "\n",
    "from sklearn.svm import SVR\n",
    "svr = SVR()\n",
    "svr.fit(x_train, y_train)\n",
    "predictions = svr.predict(x_test)"
   ]
  },
  {
   "cell_type": "code",
   "execution_count": 19,
   "id": "387ca56b",
   "metadata": {},
   "outputs": [
    {
     "name": "stdout",
     "output_type": "stream",
     "text": [
      "Results of sklearn.metrics: \n",
      "\n",
      "MAE: 0.21904505440703917\n",
      "MSE: 0.27445931794855816\n",
      "RMSE: 0.5238886503337882\n",
      "R-Squared: 0.7364718150482221\n"
     ]
    }
   ],
   "source": [
    "model_evaluation(y_test, predictions)"
   ]
  },
  {
   "cell_type": "markdown",
   "id": "eecf272f",
   "metadata": {},
   "source": [
    "### Decision Tree Regression"
   ]
  },
  {
   "cell_type": "code",
   "execution_count": 20,
   "id": "4f3ad555",
   "metadata": {},
   "outputs": [
    {
     "name": "stdout",
     "output_type": "stream",
     "text": [
      "184 ms ± 0 ns per loop (mean ± std. dev. of 1 run, 1 loop each)\n"
     ]
    }
   ],
   "source": [
    "%%timeit -n1 -r1\n",
    "\n",
    "from sklearn.tree import DecisionTreeRegressor\n",
    "dtr = DecisionTreeRegressor()\n",
    "dtr.fit(x_train, y_train)\n",
    "predictions = dtr.predict(x_test)"
   ]
  },
  {
   "cell_type": "code",
   "execution_count": 21,
   "id": "278ff3c5",
   "metadata": {
    "scrolled": true
   },
   "outputs": [
    {
     "name": "stdout",
     "output_type": "stream",
     "text": [
      "Results of sklearn.metrics: \n",
      "\n",
      "MAE: 0.21904505440703917\n",
      "MSE: 0.27445931794855816\n",
      "RMSE: 0.5238886503337882\n",
      "R-Squared: 0.7364718150482221\n"
     ]
    }
   ],
   "source": [
    "model_evaluation(y_test, predictions)"
   ]
  },
  {
   "cell_type": "markdown",
   "id": "d7f73a6d",
   "metadata": {},
   "source": [
    "### Random Forest Regression"
   ]
  },
  {
   "cell_type": "code",
   "execution_count": 22,
   "id": "b6c9d062",
   "metadata": {},
   "outputs": [],
   "source": [
    "from sklearn.ensemble import RandomForestRegressor\n",
    "rfr = RandomForestRegressor()\n",
    "rfr.fit(x_train, y_train)\n",
    "predictions = rfr.predict(x_test)"
   ]
  },
  {
   "cell_type": "code",
   "execution_count": 23,
   "id": "6bbecc6d",
   "metadata": {},
   "outputs": [
    {
     "name": "stdout",
     "output_type": "stream",
     "text": [
      "Results of sklearn.metrics: \n",
      "\n",
      "MAE: 0.1793575191140655\n",
      "MSE: 0.25559772711090684\n",
      "RMSE: 0.5055667385330119\n",
      "R-Squared: 0.754582188694494\n"
     ]
    }
   ],
   "source": [
    "model_evaluation(y_test, predictions)"
   ]
  },
  {
   "cell_type": "markdown",
   "id": "4f392f34",
   "metadata": {},
   "source": [
    "### Ridge Regression"
   ]
  },
  {
   "cell_type": "code",
   "execution_count": 24,
   "id": "18d5f6c6",
   "metadata": {},
   "outputs": [],
   "source": [
    "rdg = Ridge(alpha = 0.5)\n",
    "rdg = rdg.fit(x_train, y_train)\n",
    "predictions = rdg.predict(x_test)"
   ]
  },
  {
   "cell_type": "code",
   "execution_count": 25,
   "id": "a0783840",
   "metadata": {},
   "outputs": [
    {
     "name": "stdout",
     "output_type": "stream",
     "text": [
      "0.627195952344568\n",
      "[-0.21061063  0.70011081 -0.2360122 ]\n",
      "0.0002597213043906326\n"
     ]
    }
   ],
   "source": [
    "print(rdg.score(x_train, y_train))\n",
    "print(rdg.coef_)\n",
    "print(rdg.intercept_)"
   ]
  },
  {
   "cell_type": "code",
   "execution_count": 26,
   "id": "deb19d56",
   "metadata": {},
   "outputs": [
    {
     "name": "stdout",
     "output_type": "stream",
     "text": [
      "Results of sklearn.metrics: \n",
      "\n",
      "MAE: 0.30568790954026803\n",
      "MSE: 0.41283225512236627\n",
      "RMSE: 0.6425202371306029\n",
      "R-Squared: 0.6036099787206439\n"
     ]
    }
   ],
   "source": [
    "model_evaluation(y_test, predictions)"
   ]
  },
  {
   "cell_type": "markdown",
   "id": "021d5da1",
   "metadata": {},
   "source": [
    "### Lasso Regression"
   ]
  },
  {
   "cell_type": "code",
   "execution_count": 27,
   "id": "09b264bb",
   "metadata": {},
   "outputs": [],
   "source": [
    "lasso = Lasso(alpha=0.01)\n",
    "lasso = lasso.fit(x_train, y_train) \n",
    "prediction = lasso.predict(x_test)"
   ]
  },
  {
   "cell_type": "code",
   "execution_count": 28,
   "id": "e21f3ecb",
   "metadata": {},
   "outputs": [
    {
     "name": "stdout",
     "output_type": "stream",
     "text": [
      "0.6269635957718063\n",
      "[-0.20483271  0.68918967 -0.22970679]\n",
      "0.00023190806852511816\n"
     ]
    }
   ],
   "source": [
    "print(lasso.score(x_train, y_train))\n",
    "print(lasso.coef_)\n",
    "print(lasso.intercept_)"
   ]
  },
  {
   "cell_type": "code",
   "execution_count": 29,
   "id": "cbf82f10",
   "metadata": {
    "scrolled": true
   },
   "outputs": [
    {
     "name": "stdout",
     "output_type": "stream",
     "text": [
      "Results of sklearn.metrics: \n",
      "\n",
      "MAE: 0.30568790954026803\n",
      "MSE: 0.41283225512236627\n",
      "RMSE: 0.6425202371306029\n",
      "R-Squared: 0.6036099787206439\n"
     ]
    }
   ],
   "source": [
    "model_evaluation(y_test, predictions)"
   ]
  },
  {
   "cell_type": "markdown",
   "id": "b57920dd",
   "metadata": {},
   "source": [
    "### KNN Regression"
   ]
  },
  {
   "cell_type": "code",
   "execution_count": 30,
   "id": "97955b29",
   "metadata": {},
   "outputs": [],
   "source": [
    "knn = neighbors.KNeighborsRegressor(n_neighbors=3)\n",
    "fit = knn.fit(x_train, y_train)\n",
    "predictions = fit.predict(x_test)"
   ]
  },
  {
   "cell_type": "code",
   "execution_count": 31,
   "id": "024dec7f",
   "metadata": {},
   "outputs": [
    {
     "name": "stdout",
     "output_type": "stream",
     "text": [
      "Results of sklearn.metrics: \n",
      "\n",
      "MAE: 0.200916186957772\n",
      "MSE: 0.28960845992820206\n",
      "RMSE: 0.5381528220944326\n",
      "R-Squared: 0.7219260312894042\n"
     ]
    }
   ],
   "source": [
    "model_evaluation(y_test, predictions)"
   ]
  },
  {
   "cell_type": "markdown",
   "id": "d02a568f",
   "metadata": {},
   "source": [
    "### Model Comparison"
   ]
  },
  {
   "cell_type": "code",
   "execution_count": 32,
   "id": "dd544f9b",
   "metadata": {},
   "outputs": [
    {
     "data": {
      "text/plain": [
       "['Multiple Linear Regression',\n",
       " 'Polynomial Regression',\n",
       " 'Support Vector Regression',\n",
       " 'Decision Tree Regression',\n",
       " 'Random Forest Regression',\n",
       " 'Ridge Regression',\n",
       " 'Lasso Regression',\n",
       " 'KNN Regression']"
      ]
     },
     "execution_count": 32,
     "metadata": {},
     "output_type": "execute_result"
    }
   ],
   "source": [
    "models_list = ['Multiple Linear Regression', 'Polynomial Regression', 'Support Vector Regression', 'Decision Tree Regression', 'Random Forest Regression', 'Ridge Regression', 'Lasso Regression', 'KNN Regression' ]\n",
    "#models_list = ['Multiple Linear Regression', 'Polynomial Regression', 'Decision Tree Regression', 'Random Forest Regression', 'Ridge Regression', 'Lasso Regression', 'KNN Regression' ]\n",
    "\n",
    "models_list"
   ]
  },
  {
   "cell_type": "code",
   "execution_count": 33,
   "id": "af78dd24",
   "metadata": {},
   "outputs": [
    {
     "data": {
      "image/png": "[encoded data removed]",
      "text/plain": [
       "<Figure size 720x288 with 2 Axes>"
      ]
     },
     "metadata": {},
     "output_type": "display_data"
    }
   ],
   "source": [
    "sns.set_style('whitegrid')\n",
    "\n",
    "fig,(ax1,ax2)=plt.subplots(ncols=2,figsize=(10,4));\n",
    "ax1.plot(MAE_list,color='red', label='MAE', marker=\"o\")\n",
    "ax1.plot(MSE_list, color='blue', label='MSE', marker=\"o\")\n",
    "ax1.plot(RMSE_list,color='green', label='RMSE', marker=\"o\")\n",
    "ax2.plot(R_Squared_list,  color='green', label='R-Squared', marker=\"o\")\n",
    "ax1.legend()\n",
    "ax2.legend()\n",
    "ax1.set_xticks(ticks=range(len(MAE_list)))\n",
    "ax2.set_xticks(ticks=range(len(R_Squared_list)))\n",
    "ax1.set_xticklabels(models_list, rotation=90)\n",
    "ax2.set_xticklabels(models_list, rotation=90)\n",
    "ax1.set_xlabel('Regression Models', labelpad=20)\n",
    "ax2.set_xlabel('Regression Models', labelpad=20)\n",
    "ax1.set_ylabel('MAE, MSE, RMSE')\n",
    "ax2.set_ylabel('R-Squared')\n",
    "plt.show()\n",
    "\n",
    "# for index, value in enumerate(accuracy_score_list):\n",
    "#     plt.text(index, value+0.020, \"%.3f\" %value, ha=\"center\")"
   ]
  },
  {
   "cell_type": "code",
   "execution_count": 34,
   "id": "6bdd8828",
   "metadata": {},
   "outputs": [
    {
     "name": "stdout",
     "output_type": "stream",
     "text": [
      "0.5055667385330119\n",
      "4\n",
      "Random Forest Regression\n"
     ]
    }
   ],
   "source": [
    "print(np.min(RMSE_list))\n",
    "print(np.argmin(RMSE_list))\n",
    "print(models_list[np.argmin(RMSE_list)])"
   ]
  },
  {
   "cell_type": "code",
   "execution_count": 35,
   "id": "50959054",
   "metadata": {},
   "outputs": [
    {
     "name": "stdout",
     "output_type": "stream",
     "text": [
      "0.754582188694494\n",
      "4\n",
      "Random Forest Regression\n"
     ]
    }
   ],
   "source": [
    "print(np.max(R_Squared_list))\n",
    "print(np.argmax(R_Squared_list))\n",
    "print(models_list[np.argmax(R_Squared_list)])"
   ]
  }
 ],
 "metadata": {
  "kernelspec": {
   "display_name": "Python 3 (ipykernel)",
   "language": "python",
   "name": "python3"
  },
  "language_info": {
   "codemirror_mode": {
    "name": "ipython",
    "version": 3
   },
   "file_extension": ".py",
   "mimetype": "text/x-python",
   "name": "python",
   "nbconvert_exporter": "python",
   "pygments_lexer": "ipython3",
   "version": "3.8.8"
  }
 },
 "nbformat": 4,
 "nbformat_minor": 5
}
